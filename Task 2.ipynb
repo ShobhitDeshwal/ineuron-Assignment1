{
 "cells": [
  {
   "cell_type": "code",
   "execution_count": 1,
   "metadata": {},
   "outputs": [
    {
     "name": "stdout",
     "output_type": "stream",
     "text": [
      "To end the list enter \"end\"\n",
      "enter a number for a  list:1\n",
      "To end the list enter \"end\"\n",
      "enter a number for a  list:2\n",
      "To end the list enter \"end\"\n",
      "enter a number for a  list:3\n",
      "To end the list enter \"end\"\n",
      "enter a number for a  list:end\n",
      "You have ended the list\n",
      "[1.0, 2.0, 3.0]\n"
     ]
    }
   ],
   "source": [
    "i=1\n",
    "b = []\n",
    "while i:\n",
    "    print('To end the list enter \"end\"')    \n",
    "    a = input('enter a number for a  list:')\n",
    "    if a.lower() == 'end':\n",
    "        i =0\n",
    "        print('You have ended the list')\n",
    "    else:\n",
    "        a = float(a)\n",
    "        b.append(a)\n",
    " \n",
    "print(b)   \n"
   ]
  },
  {
   "cell_type": "code",
   "execution_count": 2,
   "metadata": {},
   "outputs": [
    {
     "name": "stdout",
     "output_type": "stream",
     "text": [
      "Enter the sequence:1,2,3,555\n",
      "[1.0, 2.0, 3.0, 555.0]\n"
     ]
    }
   ],
   "source": [
    "c=[]\n",
    "a = input('Enter the sequence:')\n",
    "b = a.split(',')\n",
    "\n",
    "for i in b:\n",
    "    x = float(i)\n",
    "    c.append(x)\n",
    "print(c)\n"
   ]
  },
  {
   "cell_type": "code",
   "execution_count": 3,
   "metadata": {},
   "outputs": [
    {
     "name": "stdout",
     "output_type": "stream",
     "text": [
      "*\n",
      "**\n",
      "***\n",
      "****\n",
      "*****\n",
      "****\n",
      "***\n",
      "**\n",
      "*\n",
      "\n"
     ]
    }
   ],
   "source": [
    "for i in range(1,11):\n",
    "    for j in range(1,i+1):\n",
    "               \n",
    "        if  j > 5:\n",
    "            j = 10- j\n",
    "            \n",
    "        x = '*'*j\n",
    "    print(x)"
   ]
  },
  {
   "cell_type": "code",
   "execution_count": 4,
   "metadata": {},
   "outputs": [
    {
     "name": "stdout",
     "output_type": "stream",
     "text": [
      "Enter a word you want to reverse :Red rum, sir, is murder\n",
      "redrum si ,ris ,mur deR\n"
     ]
    }
   ],
   "source": [
    "word = input('Enter a word you want to reverse :')\n",
    "print(word[::-1])\n"
   ]
  },
  {
   "cell_type": "code",
   "execution_count": 5,
   "metadata": {},
   "outputs": [
    {
     "name": "stdout",
     "output_type": "stream",
     "text": [
      "WE, THE PEOPLE OF INDIA,\n",
      "\thaving solemnly resolved to constitute India into a SOVEREIGN,! \n",
      "\t\tSOCIALIST, SECULAR, DEMOCRATIC REPUBLIC \n",
      "\t\t and to secure to all its citizens\n"
     ]
    }
   ],
   "source": [
    "# don't know exactly what is asked in the question. do we have to like write a program for it or just have to format the \n",
    "# string\n",
    "print(\"WE, THE PEOPLE OF INDIA,\\n\\thaving solemnly resolved to constitute India into a SOVEREIGN,! \\n\\t\\tSOCIALIST, SECULAR, DEMOCRATIC REPUBLIC \\n\\t\\t and to secure to all its citizens\")\n",
    "    "
   ]
  },
  {
   "cell_type": "code",
   "execution_count": null,
   "metadata": {},
   "outputs": [],
   "source": []
  },
  {
   "cell_type": "code",
   "execution_count": null,
   "metadata": {},
   "outputs": [],
   "source": []
  },
  {
   "cell_type": "code",
   "execution_count": null,
   "metadata": {},
   "outputs": [],
   "source": []
  }
 ],
 "metadata": {
  "kernelspec": {
   "display_name": "Python 3",
   "language": "python",
   "name": "python3"
  },
  "language_info": {
   "codemirror_mode": {
    "name": "ipython",
    "version": 3
   },
   "file_extension": ".py",
   "mimetype": "text/x-python",
   "name": "python",
   "nbconvert_exporter": "python",
   "pygments_lexer": "ipython3",
   "version": "3.7.3"
  }
 },
 "nbformat": 4,
 "nbformat_minor": 4
}
